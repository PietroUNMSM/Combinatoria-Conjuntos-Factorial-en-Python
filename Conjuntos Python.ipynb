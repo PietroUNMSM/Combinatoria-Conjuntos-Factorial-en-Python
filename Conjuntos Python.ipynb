{
 "cells": [
  {
   "cell_type": "markdown",
   "metadata": {},
   "source": [
    "# CONJUNTOS EN PYTHON"
   ]
  },
  {
   "cell_type": "markdown",
   "metadata": {},
   "source": [
    "## INTRO"
   ]
  },
  {
   "cell_type": "code",
   "execution_count": 5,
   "metadata": {},
   "outputs": [
    {
     "data": {
      "text/plain": "set()"
     },
     "execution_count": 5,
     "metadata": {},
     "output_type": "execute_result"
    }
   ],
   "source": [
    "#Creando un conjunto en Python\r\n",
    "A = {10, 45, 75}\r\n",
    "#A\r\n",
    "\r\n",
    "#Equivalente a un conjunto nulo en python\r\n",
    "B = set()\r\n",
    "B"
   ]
  },
  {
   "cell_type": "code",
   "execution_count": 6,
   "metadata": {},
   "outputs": [
    {
     "data": {
      "text/plain": "{'Cálculo', 'Física', 'POO', 'Probabilidad'}"
     },
     "execution_count": 6,
     "metadata": {},
     "output_type": "execute_result"
    }
   ],
   "source": [
    "#Un conjunto a partir de una lista\r\n",
    "list = [\"Cálculo\", \"Física\", \"POO\", \"Probabilidad\"]\r\n",
    "C = set(list)\r\n",
    "C"
   ]
  },
  {
   "cell_type": "code",
   "execution_count": 7,
   "metadata": {},
   "outputs": [
    {
     "data": {
      "text/plain": "{'Cálculo', 'Física', 'POO', 'Probabilidad'}"
     },
     "execution_count": 7,
     "metadata": {},
     "output_type": "execute_result"
    }
   ],
   "source": [
    "#No importa si hay elementos duplicados\r\n",
    "list = [\"Física\",\"Cálculo\", \"Física\",\"Cálculo\", \"POO\", \"Probabilidad\", \"Física\"]\r\n",
    "R = set(list)\r\n",
    "R"
   ]
  },
  {
   "cell_type": "code",
   "execution_count": 12,
   "metadata": {},
   "outputs": [
    {
     "name": "stdout",
     "output_type": "stream",
     "text": [
      "Se encuentra ecuaciones diferenciales en el conjunto B??  False\n"
     ]
    }
   ],
   "source": [
    "# Comprobando la presencia de elementos\r\n",
    "\r\n",
    "A = {10, 45, 75}\r\n",
    "#49 in A\r\n",
    "\r\n",
    "B = {\"Cálculo\", \"Física\", \"POO\", \"Probabilidad\"}\r\n",
    "\r\n",
    "print(\"Se encuentra ecuaciones diferenciales en el conjunto B?? \", 'Ecuaciones diferenciales' in B)\r\n",
    "#89 in A"
   ]
  },
  {
   "cell_type": "code",
   "execution_count": 14,
   "metadata": {},
   "outputs": [
    {
     "name": "stdout",
     "output_type": "stream",
     "text": [
      "Los conjuntos A y B son iguales?  False\n"
     ]
    }
   ],
   "source": [
    "#Igualdad entre conjuntos, ORDEN NO IMPORTA\r\n",
    "A = {10,20,30,40,32}\r\n",
    "B = {20,40,30,10, 90}\r\n",
    "print('Los conjuntos A y B son iguales? ',A==B)"
   ]
  },
  {
   "cell_type": "code",
   "execution_count": 16,
   "metadata": {},
   "outputs": [
    {
     "name": "stdout",
     "output_type": "stream",
     "text": [
      "A es subconjunto propio de B?  True\n"
     ]
    }
   ],
   "source": [
    "#Subconjunto\r\n",
    "A = {1,3,5}\r\n",
    "B = {1,3,5,7,9,11}\r\n",
    "#print('A es subconjunto de B? ',A.issubset(B))  # nombre_subconjunto.issubset(nombre_conjunto)\r\n",
    "\r\n",
    "#Subconjunto propio\r\n",
    "print('A es subconjunto propio de B? ',A.issubset(B) and A!=B)"
   ]
  },
  {
   "cell_type": "markdown",
   "metadata": {},
   "source": [
    "## OPERACIONES CON CONJUNTOS"
   ]
  },
  {
   "cell_type": "code",
   "execution_count": 18,
   "metadata": {},
   "outputs": [
    {
     "data": {
      "text/plain": "{1, 3, 4, 5, 7, 10, 11, 15, 21, 23}"
     },
     "execution_count": 18,
     "metadata": {},
     "output_type": "execute_result"
    }
   ],
   "source": [
    "# Unión de conjuntos\r\n",
    "P = {1,5,4,10,15,21}\r\n",
    "Q = {3,7,10,11,15,23}\r\n",
    "\r\n",
    "# conjuntoA.union(conjuntoB)\r\n",
    "P.union(Q)"
   ]
  },
  {
   "cell_type": "code",
   "execution_count": 19,
   "metadata": {},
   "outputs": [
    {
     "data": {
      "text/plain": "{10, 15}"
     },
     "execution_count": 19,
     "metadata": {},
     "output_type": "execute_result"
    }
   ],
   "source": [
    "#Intersección\r\n",
    "# conjuntoA.intersection(conjuntoB)\r\n",
    "P.intersection(Q)"
   ]
  },
  {
   "cell_type": "code",
   "execution_count": 20,
   "metadata": {},
   "outputs": [
    {
     "data": {
      "text/plain": "{1, 4, 5, 21}"
     },
     "execution_count": 20,
     "metadata": {},
     "output_type": "execute_result"
    }
   ],
   "source": [
    "#Diferencia de conjuntos\r\n",
    "# conjuntoA - conjuntoB\r\n",
    "P - Q"
   ]
  },
  {
   "cell_type": "code",
   "execution_count": null,
   "metadata": {},
   "outputs": [],
   "source": []
  }
 ],
 "metadata": {
  "kernelspec": {
   "display_name": "Python 3.9.2 64-bit",
   "metadata": {
    "interpreter": {
     "hash": "8da01e5a71448ea74f54d88afa8911010d1d12e23bc7e103d40d5def4a09152c"
    }
   },
   "name": "python3"
  },
  "language_info": {
   "codemirror_mode": {
    "name": "ipython",
    "version": 3
   },
   "file_extension": ".py",
   "mimetype": "text/x-python",
   "name": "python",
   "nbconvert_exporter": "python",
   "pygments_lexer": "ipython3",
   "version": "3.9.2"
  },
  "orig_nbformat": 2
 },
 "nbformat": 4,
 "nbformat_minor": 2
}